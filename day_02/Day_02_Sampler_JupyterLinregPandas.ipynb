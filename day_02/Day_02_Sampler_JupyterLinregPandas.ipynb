{
 "cells": [
  {
   "cell_type": "markdown",
   "metadata": {},
   "source": [
    "### A Little Notebook-Fu\n",
    "\n",
    "Unordered list:\n",
    "\n",
    "  * item 1\n",
    "  * item 2\n",
    "  * item 3\n",
    "  \n",
    "Order list:\n",
    " \n",
    "   1.  item 1\n",
    "   1. item 2\n",
    "   2. item\n",
    "   \n",
    "We can have links:  [here's a common website](http://www.slashdot.org)\n",
    "\n",
    "You can use latex:  $\\LaTeX$  $y=\\beta_1 x + \\beta_0$\n",
    "\n",
    "Some html:  <font color=\"red\">HELLO WORLD</font>"
   ]
  },
  {
   "cell_type": "code",
   "execution_count": 5,
   "metadata": {
    "collapsed": false
   },
   "outputs": [
    {
     "name": "stdout",
     "output_type": "stream",
     "text": [
      "0\n",
      "1\n",
      "2\n"
     ]
    },
    {
     "data": {
      "text/plain": [
       "42"
      ]
     },
     "execution_count": 5,
     "metadata": {},
     "output_type": "execute_result"
    }
   ],
   "source": [
    "30 + 50\n",
    "\n",
    "x = 10\n",
    "\n",
    "for i in range(3):\n",
    "    print i\n",
    "    \n",
    "42"
   ]
  },
  {
   "cell_type": "markdown",
   "metadata": {},
   "source": [
    "### General Imports"
   ]
  },
  {
   "cell_type": "code",
   "execution_count": 6,
   "metadata": {
    "collapsed": true
   },
   "outputs": [],
   "source": [
    "import numpy as np\n",
    "import pandas as pd\n",
    "import matplotlib.pyplot as plt\n",
    "import numpy.linalg as nla\n",
    "\n",
    "# display graphics in the browser window\n",
    "# \"cell magics\"  %%\n",
    "# \"line magics\" % \n",
    "%matplotlib inline"
   ]
  },
  {
   "cell_type": "markdown",
   "metadata": {},
   "source": [
    "### A Little Old-School Linear Regression"
   ]
  },
  {
   "cell_type": "code",
   "execution_count": 7,
   "metadata": {
    "collapsed": false
   },
   "outputs": [
    {
     "data": {
      "text/plain": [
       "[<matplotlib.lines.Line2D at 0x111eb4450>]"
      ]
     },
     "execution_count": 7,
     "metadata": {},
     "output_type": "execute_result"
    },
    {
     "data": {
      "image/png": "[encoded data removed]",
      "text/plain": [
       "<matplotlib.figure.Figure at 0x10416e890>"
      ]
     },
     "metadata": {},
     "output_type": "display_data"
    }
   ],
   "source": [
    "n_obs = 100\n",
    "n_ftr = 1\n",
    "def f(x):\n",
    "    return 1 + np.dot(x, 2**np.arange(1,n_ftr+1))\n",
    "\n",
    "X = np.random.uniform(0,10,(n_obs,n_ftr))\n",
    "noise = np.random.normal(0.0, 2.0, n_obs)\n",
    "\n",
    "Y = f(X) + noise\n",
    "\n",
    "plt.scatter(X,Y,color='r')\n",
    "plt.plot(X,f(X), 'b')"
   ]
  },
  {
   "cell_type": "code",
   "execution_count": 8,
   "metadata": {
    "collapsed": false
   },
   "outputs": [
    {
     "name": "stdout",
     "output_type": "stream",
     "text": [
      "474.117418841\n",
      "3415.29445972\n"
     ]
    },
    {
     "data": {
      "image/png": "[encoded data removed]",
      "text/plain": [
       "<matplotlib.figure.Figure at 0x111ea9550>"
      ]
     },
     "metadata": {},
     "output_type": "display_data"
    }
   ],
   "source": [
    "beta_hat_a = np.ones(n_ftr+1)\n",
    "\n",
    "plt.scatter(X,Y,color='r')\n",
    "pred_a = beta_hat_a[0] + np.dot(X,beta_hat_a[1:])\n",
    "\n",
    "plt.plot(X,pred_a, 'b')\n",
    "\n",
    "errors_a = Y - pred_a\n",
    "print errors_a.sum()\n",
    "print np.dot(errors_a, errors_a)"
   ]
  },
  {
   "cell_type": "code",
   "execution_count": 11,
   "metadata": {
    "collapsed": false
   },
   "outputs": [
    {
     "data": {
      "text/plain": [
       "array([[ 9.97547775],\n",
       "       [ 7.04804716],\n",
       "       [ 4.1325888 ],\n",
       "       [ 5.45325541],\n",
       "       [ 7.01295549],\n",
       "       [ 4.24945727],\n",
       "       [ 7.6561181 ],\n",
       "       [ 6.39900349],\n",
       "       [ 5.35178548],\n",
       "       [ 0.03994982]])"
      ]
     },
     "execution_count": 11,
     "metadata": {},
     "output_type": "execute_result"
    }
   ],
   "source": [
    "X[:10]"
   ]
  },
  {
   "cell_type": "code",
   "execution_count": 12,
   "metadata": {
    "collapsed": false
   },
   "outputs": [
    {
     "data": {
      "text/plain": [
       "array([[ 1.        ,  9.97547775],\n",
       "       [ 1.        ,  7.04804716],\n",
       "       [ 1.        ,  4.1325888 ],\n",
       "       [ 1.        ,  5.45325541],\n",
       "       [ 1.        ,  7.01295549],\n",
       "       [ 1.        ,  4.24945727],\n",
       "       [ 1.        ,  7.6561181 ],\n",
       "       [ 1.        ,  6.39900349],\n",
       "       [ 1.        ,  5.35178548],\n",
       "       [ 1.        ,  0.03994982]])"
      ]
     },
     "execution_count": 12,
     "metadata": {},
     "output_type": "execute_result"
    }
   ],
   "source": [
    "D = np.hstack((np.ones((n_obs, 1)), X))\n",
    "D[:10]"
   ]
  },
  {
   "cell_type": "code",
   "execution_count": 13,
   "metadata": {
    "collapsed": false
   },
   "outputs": [
    {
     "name": "stdout",
     "output_type": "stream",
     "text": [
      "[ 1.35519951  1.94937471]\n"
     ]
    }
   ],
   "source": [
    "mle_betas = nla.lstsq(D,Y)[0]\n",
    "print mle_betas"
   ]
  },
  {
   "cell_type": "code",
   "execution_count": 14,
   "metadata": {
    "collapsed": false
   },
   "outputs": [
    {
     "data": {
      "text/plain": [
       "[<matplotlib.lines.Line2D at 0x114c7efd0>]"
      ]
     },
     "execution_count": 14,
     "metadata": {},
     "output_type": "execute_result"
    },
    {
     "data": {
      "image/png": "[encoded data removed]",
      "text/plain": [
       "<matplotlib.figure.Figure at 0x111ea9890>"
      ]
     },
     "metadata": {},
     "output_type": "display_data"
    }
   ],
   "source": [
    "plt.scatter(X,Y,color='r')\n",
    "pred_mle = mle_betas[0] + np.dot(X, mle_betas[1:])\n",
    "plt.plot(X, pred_mle,'b')\n",
    "plt.plot(X,f(X), 'g')"
   ]
  },
  {
   "cell_type": "code",
   "execution_count": 15,
   "metadata": {
    "collapsed": false
   },
   "outputs": [
    {
     "name": "stdout",
     "output_type": "stream",
     "text": [
      "333.866236561\n"
     ]
    }
   ],
   "source": [
    "errors_mle = Y - pred_mle\n",
    "print np.dot(errors_mle, errors_mle)"
   ]
  },
  {
   "cell_type": "markdown",
   "metadata": {},
   "source": [
    "### Some Pandas"
   ]
  },
  {
   "cell_type": "code",
   "execution_count": 17,
   "metadata": {
    "collapsed": true
   },
   "outputs": [],
   "source": [
    "heights = pd.Series([86.1, 65.7, 167])\n",
    "weights = pd.Series([180, 167, 127])\n",
    "\n",
    "appointments = pd.Series([pd.datetime(2012, 10, 5),\n",
    "                        pd.datetime(2009, 5, 11),\n",
    "                        pd.datetime(2007, 8, 18)])\n",
    "names = pd.Series([\"Mark\", \"Barb\", \"Ethan\"])"
   ]
  },
  {
   "cell_type": "code",
   "execution_count": 19,
   "metadata": {
    "collapsed": false
   },
   "outputs": [
    {
     "name": "stdout",
     "output_type": "stream",
     "text": [
      "0     86.1\n",
      "1     65.7\n",
      "2    167.0\n",
      "dtype: float64\n",
      "0   2012-10-05\n",
      "1   2009-05-11\n",
      "2   2007-08-18\n",
      "dtype: datetime64[ns]\n"
     ]
    }
   ],
   "source": [
    "print heights\n",
    "print appointments"
   ]
  },
  {
   "cell_type": "code",
   "execution_count": 20,
   "metadata": {
    "collapsed": false
   },
   "outputs": [
    {
     "name": "stdout",
     "output_type": "stream",
     "text": [
      "Mark     86.10\n",
      "Barb     65.70\n",
      "Ethan    29.45\n",
      "dtype: float64\n"
     ]
    }
   ],
   "source": [
    "weights = pd.Series([86.1, 65.7, 29.45], \n",
    "                    index=['Mark', 'Barb', 'Ethan'])\n",
    "print weights"
   ]
  },
  {
   "cell_type": "code",
   "execution_count": 24,
   "metadata": {
    "collapsed": false
   },
   "outputs": [
    {
     "data": {
      "text/html": [
       "<div>\n",
       "<table border=\"1\" class=\"dataframe\">\n",
       "  <thead>\n",
       "    <tr style=\"text-align: right;\">\n",
       "      <th></th>\n",
       "      <th>height</th>\n",
       "      <th>weight</th>\n",
       "    </tr>\n",
       "  </thead>\n",
       "  <tbody>\n",
       "    <tr>\n",
       "      <th>Mark</th>\n",
       "      <td>180</td>\n",
       "      <td>86.10</td>\n",
       "    </tr>\n",
       "    <tr>\n",
       "      <th>Barb</th>\n",
       "      <td>167</td>\n",
       "      <td>65.70</td>\n",
       "    </tr>\n",
       "    <tr>\n",
       "      <th>Ethan</th>\n",
       "      <td>127</td>\n",
       "      <td>29.45</td>\n",
       "    </tr>\n",
       "  </tbody>\n",
       "</table>\n",
       "</div>"
      ],
      "text/plain": [
       "       height  weight\n",
       "Mark      180   86.10\n",
       "Barb      167   65.70\n",
       "Ethan     127   29.45"
      ]
     },
     "execution_count": 24,
     "metadata": {},
     "output_type": "execute_result"
    }
   ],
   "source": [
    "heights = pd.Series([180, 167, 127], index=names)\n",
    "df = pd.DataFrame({\"weight\":weights, \"height\":heights})\n",
    "df"
   ]
  },
  {
   "cell_type": "code",
   "execution_count": 25,
   "metadata": {
    "collapsed": true
   },
   "outputs": [],
   "source": [
    "bmis = df['weight'] / (df['height']/100.0)**2"
   ]
  },
  {
   "cell_type": "code",
   "execution_count": 26,
   "metadata": {
    "collapsed": false
   },
   "outputs": [
    {
     "data": {
      "text/plain": [
       "Mark     26.574074\n",
       "Barb     23.557675\n",
       "Ethan    18.259037\n",
       "dtype: float64"
      ]
     },
     "execution_count": 26,
     "metadata": {},
     "output_type": "execute_result"
    }
   ],
   "source": [
    "bmis"
   ]
  },
  {
   "cell_type": "code",
   "execution_count": 27,
   "metadata": {
    "collapsed": false
   },
   "outputs": [
    {
     "data": {
      "text/html": [
       "<div>\n",
       "<table border=\"1\" class=\"dataframe\">\n",
       "  <thead>\n",
       "    <tr style=\"text-align: right;\">\n",
       "      <th></th>\n",
       "      <th>height</th>\n",
       "      <th>weight</th>\n",
       "      <th>BMI</th>\n",
       "    </tr>\n",
       "  </thead>\n",
       "  <tbody>\n",
       "    <tr>\n",
       "      <th>Mark</th>\n",
       "      <td>180</td>\n",
       "      <td>86.10</td>\n",
       "      <td>26.574074</td>\n",
       "    </tr>\n",
       "    <tr>\n",
       "      <th>Barb</th>\n",
       "      <td>167</td>\n",
       "      <td>65.70</td>\n",
       "      <td>23.557675</td>\n",
       "    </tr>\n",
       "    <tr>\n",
       "      <th>Ethan</th>\n",
       "      <td>127</td>\n",
       "      <td>29.45</td>\n",
       "      <td>18.259037</td>\n",
       "    </tr>\n",
       "  </tbody>\n",
       "</table>\n",
       "</div>"
      ],
      "text/plain": [
       "       height  weight        BMI\n",
       "Mark      180   86.10  26.574074\n",
       "Barb      167   65.70  23.557675\n",
       "Ethan     127   29.45  18.259037"
      ]
     },
     "execution_count": 27,
     "metadata": {},
     "output_type": "execute_result"
    }
   ],
   "source": [
    "df['BMI'] = bmis\n",
    "df"
   ]
  },
  {
   "cell_type": "code",
   "execution_count": 28,
   "metadata": {
    "collapsed": false
   },
   "outputs": [
    {
     "data": {
      "image/png": "[encoded data removed]",
      "text/plain": [
       "<matplotlib.figure.Figure at 0x111ea9950>"
      ]
     },
     "metadata": {},
     "output_type": "display_data"
    }
   ],
   "source": [
    "# 10 days of 1 minute times\n",
    "baseRange = pd.date_range('2012-01-02', '2012-01-11', freq=\"1min\")\n",
    "# select 9:30AM-4:00PM only\n",
    "dailyRange = baseRange[baseRange.indexer_between_time('9:30','16:00')]\n",
    "tickerPoints = len(dailyRange)\n",
    "\n",
    "# simulate a random walk from 123.7 \n",
    "tickerData = np.cumsum(np.random.randn(tickerPoints)) + 123.7\n",
    "\n",
    "# put it together in a DataFrame and graph it\n",
    "testDataFrame = pd.DataFrame({\"ticker\":tickerData}, index = dailyRange)\n",
    "testDataFrame.plot();"
   ]
  },
  {
   "cell_type": "code",
   "execution_count": 32,
   "metadata": {
    "collapsed": false
   },
   "outputs": [
    {
     "data": {
      "text/html": [
       "<div>\n",
       "<table border=\"1\" class=\"dataframe\">\n",
       "  <thead>\n",
       "    <tr style=\"text-align: right;\">\n",
       "      <th></th>\n",
       "      <th>high</th>\n",
       "      <th>close</th>\n",
       "      <th>open</th>\n",
       "      <th>low</th>\n",
       "      <th>range</th>\n",
       "    </tr>\n",
       "  </thead>\n",
       "  <tbody>\n",
       "    <tr>\n",
       "      <th>2012-01-02</th>\n",
       "      <td>130.532764</td>\n",
       "      <td>126.752240</td>\n",
       "      <td>123.442458</td>\n",
       "      <td>111.456287</td>\n",
       "      <td>19.076477</td>\n",
       "    </tr>\n",
       "    <tr>\n",
       "      <th>2012-01-03</th>\n",
       "      <td>146.937769</td>\n",
       "      <td>132.471072</td>\n",
       "      <td>126.641920</td>\n",
       "      <td>120.616325</td>\n",
       "      <td>26.321443</td>\n",
       "    </tr>\n",
       "    <tr>\n",
       "      <th>2012-01-04</th>\n",
       "      <td>137.298030</td>\n",
       "      <td>109.799832</td>\n",
       "      <td>131.538909</td>\n",
       "      <td>105.275301</td>\n",
       "      <td>32.022729</td>\n",
       "    </tr>\n",
       "    <tr>\n",
       "      <th>2012-01-05</th>\n",
       "      <td>115.465630</td>\n",
       "      <td>108.472348</td>\n",
       "      <td>109.219996</td>\n",
       "      <td>86.483482</td>\n",
       "      <td>28.982148</td>\n",
       "    </tr>\n",
       "    <tr>\n",
       "      <th>2012-01-06</th>\n",
       "      <td>110.647497</td>\n",
       "      <td>82.972294</td>\n",
       "      <td>108.329004</td>\n",
       "      <td>79.848754</td>\n",
       "      <td>30.798743</td>\n",
       "    </tr>\n",
       "    <tr>\n",
       "      <th>2012-01-07</th>\n",
       "      <td>86.942779</td>\n",
       "      <td>77.979921</td>\n",
       "      <td>84.067164</td>\n",
       "      <td>70.469831</td>\n",
       "      <td>16.472948</td>\n",
       "    </tr>\n",
       "    <tr>\n",
       "      <th>2012-01-08</th>\n",
       "      <td>98.366454</td>\n",
       "      <td>91.451231</td>\n",
       "      <td>77.153737</td>\n",
       "      <td>74.789223</td>\n",
       "      <td>23.577231</td>\n",
       "    </tr>\n",
       "    <tr>\n",
       "      <th>2012-01-09</th>\n",
       "      <td>102.013130</td>\n",
       "      <td>87.212105</td>\n",
       "      <td>90.744369</td>\n",
       "      <td>77.629750</td>\n",
       "      <td>24.383380</td>\n",
       "    </tr>\n",
       "    <tr>\n",
       "      <th>2012-01-10</th>\n",
       "      <td>89.728238</td>\n",
       "      <td>67.289447</td>\n",
       "      <td>87.446054</td>\n",
       "      <td>63.204264</td>\n",
       "      <td>26.523974</td>\n",
       "    </tr>\n",
       "  </tbody>\n",
       "</table>\n",
       "</div>"
      ],
      "text/plain": [
       "                  high       close        open         low      range\n",
       "2012-01-02  130.532764  126.752240  123.442458  111.456287  19.076477\n",
       "2012-01-03  146.937769  132.471072  126.641920  120.616325  26.321443\n",
       "2012-01-04  137.298030  109.799832  131.538909  105.275301  32.022729\n",
       "2012-01-05  115.465630  108.472348  109.219996   86.483482  28.982148\n",
       "2012-01-06  110.647497   82.972294  108.329004   79.848754  30.798743\n",
       "2012-01-07   86.942779   77.979921   84.067164   70.469831  16.472948\n",
       "2012-01-08   98.366454   91.451231   77.153737   74.789223  23.577231\n",
       "2012-01-09  102.013130   87.212105   90.744369   77.629750  24.383380\n",
       "2012-01-10   89.728238   67.289447   87.446054   63.204264  26.523974"
      ]
     },
     "execution_count": 32,
     "metadata": {},
     "output_type": "execute_result"
    }
   ],
   "source": [
    "tdf = testDataFrame\n",
    "grouper = tdf.groupby(pd.TimeGrouper(freq='D'))\n",
    "daily = grouper.aggregate({\"ticker\": {\"open\"  : \"first\",\n",
    "                                       \"close\" : \"last\",\n",
    "                                       \"high\"  : \"max\",\n",
    "                                      \"low\"   : \"min\"}})\n",
    "#testDataFrame.groupby(pd.TimeGrouper(freq='D')).aggregate({\"ticker\": \"ohlc\"})\n",
    "# daily\n",
    "daily.columns=daily.columns.droplevel(0)\n",
    "daily['range'] = daily['high'] - daily['low']\n",
    "daily"
   ]
  },
  {
   "cell_type": "code",
   "execution_count": 33,
   "metadata": {
    "collapsed": false
   },
   "outputs": [
    {
     "data": {
      "text/html": [
       "<div>\n",
       "<table border=\"1\" class=\"dataframe\">\n",
       "  <thead>\n",
       "    <tr style=\"text-align: right;\">\n",
       "      <th></th>\n",
       "      <th>high</th>\n",
       "      <th>close</th>\n",
       "      <th>open</th>\n",
       "      <th>low</th>\n",
       "      <th>range</th>\n",
       "    </tr>\n",
       "  </thead>\n",
       "  <tbody>\n",
       "    <tr>\n",
       "      <th>2012-01-02</th>\n",
       "      <td>130.532764</td>\n",
       "      <td>126.752240</td>\n",
       "      <td>123.442458</td>\n",
       "      <td>111.456287</td>\n",
       "      <td>19.076477</td>\n",
       "    </tr>\n",
       "    <tr>\n",
       "      <th>2012-01-03</th>\n",
       "      <td>146.937769</td>\n",
       "      <td>132.471072</td>\n",
       "      <td>126.641920</td>\n",
       "      <td>120.616325</td>\n",
       "      <td>26.321443</td>\n",
       "    </tr>\n",
       "    <tr>\n",
       "      <th>2012-01-04</th>\n",
       "      <td>137.298030</td>\n",
       "      <td>109.799832</td>\n",
       "      <td>131.538909</td>\n",
       "      <td>105.275301</td>\n",
       "      <td>32.022729</td>\n",
       "    </tr>\n",
       "    <tr>\n",
       "      <th>2012-01-05</th>\n",
       "      <td>115.465630</td>\n",
       "      <td>108.472348</td>\n",
       "      <td>109.219996</td>\n",
       "      <td>86.483482</td>\n",
       "      <td>28.982148</td>\n",
       "    </tr>\n",
       "    <tr>\n",
       "      <th>2012-01-06</th>\n",
       "      <td>110.647497</td>\n",
       "      <td>82.972294</td>\n",
       "      <td>108.329004</td>\n",
       "      <td>79.848754</td>\n",
       "      <td>30.798743</td>\n",
       "    </tr>\n",
       "    <tr>\n",
       "      <th>2012-01-07</th>\n",
       "      <td>86.942779</td>\n",
       "      <td>77.979921</td>\n",
       "      <td>84.067164</td>\n",
       "      <td>70.469831</td>\n",
       "      <td>16.472948</td>\n",
       "    </tr>\n",
       "    <tr>\n",
       "      <th>2012-01-08</th>\n",
       "      <td>98.366454</td>\n",
       "      <td>91.451231</td>\n",
       "      <td>77.153737</td>\n",
       "      <td>74.789223</td>\n",
       "      <td>23.577231</td>\n",
       "    </tr>\n",
       "    <tr>\n",
       "      <th>2012-01-09</th>\n",
       "      <td>102.013130</td>\n",
       "      <td>87.212105</td>\n",
       "      <td>90.744369</td>\n",
       "      <td>77.629750</td>\n",
       "      <td>24.383380</td>\n",
       "    </tr>\n",
       "    <tr>\n",
       "      <th>2012-01-10</th>\n",
       "      <td>89.728238</td>\n",
       "      <td>67.289447</td>\n",
       "      <td>87.446054</td>\n",
       "      <td>63.204264</td>\n",
       "      <td>26.523974</td>\n",
       "    </tr>\n",
       "  </tbody>\n",
       "</table>\n",
       "</div>"
      ],
      "text/plain": [
       "                  high       close        open         low      range\n",
       "2012-01-02  130.532764  126.752240  123.442458  111.456287  19.076477\n",
       "2012-01-03  146.937769  132.471072  126.641920  120.616325  26.321443\n",
       "2012-01-04  137.298030  109.799832  131.538909  105.275301  32.022729\n",
       "2012-01-05  115.465630  108.472348  109.219996   86.483482  28.982148\n",
       "2012-01-06  110.647497   82.972294  108.329004   79.848754  30.798743\n",
       "2012-01-07   86.942779   77.979921   84.067164   70.469831  16.472948\n",
       "2012-01-08   98.366454   91.451231   77.153737   74.789223  23.577231\n",
       "2012-01-09  102.013130   87.212105   90.744369   77.629750  24.383380\n",
       "2012-01-10   89.728238   67.289447   87.446054   63.204264  26.523974"
      ]
     },
     "execution_count": 33,
     "metadata": {},
     "output_type": "execute_result"
    }
   ],
   "source": [
    "daily.to_excel('daily_data.xlsx')\n",
    "revived = pd.read_excel('./daily_data.xlsx', 0) # file, sheet num.\n",
    "revived"
   ]
  },
  {
   "cell_type": "code",
   "execution_count": 36,
   "metadata": {
    "collapsed": false
   },
   "outputs": [],
   "source": [
    "?daily.to_excel"
   ]
  },
  {
   "cell_type": "code",
   "execution_count": 37,
   "metadata": {
    "collapsed": true
   },
   "outputs": [],
   "source": [
    "?str.split"
   ]
  },
  {
   "cell_type": "code",
   "execution_count": null,
   "metadata": {
    "collapsed": true
   },
   "outputs": [],
   "source": []
  }
 ],
 "metadata": {
  "kernelspec": {
   "display_name": "Python 2",
   "language": "python",
   "name": "python2"
  },
  "language_info": {
   "codemirror_mode": {
    "name": "ipython",
    "version": 2
   },
   "file_extension": ".py",
   "mimetype": "text/x-python",
   "name": "python",
   "nbconvert_exporter": "python",
   "pygments_lexer": "ipython2",
   "version": "2.7.11"
  }
 },
 "nbformat": 4,
 "nbformat_minor": 0
}
