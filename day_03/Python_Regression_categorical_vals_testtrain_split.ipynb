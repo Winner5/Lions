{
 "cells": [
  {
   "cell_type": "markdown",
   "metadata": {},
   "source": [
    "## DEALING WITH CATEGORICAL FEATURES"
   ]
  },
  {
   "cell_type": "markdown",
   "metadata": {},
   "source": [
    "#### Read the data"
   ]
  },
  {
   "cell_type": "code",
   "execution_count": null,
   "metadata": {
    "collapsed": false
   },
   "outputs": [],
   "source": [
    "import pandas as pd\n",
    "\n",
    "def get_movies(aDir):\n",
    "    import os, json\n",
    "    file_contents = os.listdir(aDir)\n",
    "\n",
    "    movie_list = []\n",
    "\n",
    "    for filename in file_contents:\n",
    "        filepath = os.path.join(aDir, filename)\n",
    "\n",
    "        with open(filepath, 'r') as movie_file:\n",
    "            movie_data = json.load(movie_file)\n",
    "        if hasattr(movie_data, \"keys\"): # type(movie_data) == dict:\n",
    "            movie_list.append(movie_data)\n",
    "    return movie_list\n",
    "\n",
    "movie_list = get_movies(\"/Users/mfenner/repos/metis/ct16_cap1_ds4\"\n",
    "                        \"/project_1/data/boxofficemojo/\")\n",
    "movies = pd.DataFrame(movie_list)\n",
    "movies.head()"
   ]
  },
  {
   "cell_type": "code",
   "execution_count": null,
   "metadata": {
    "collapsed": false
   },
   "outputs": [],
   "source": [
    "import pandas as pd\n",
    "movies = pd.DataFrame(movie_list)\n",
    "movies.head()"
   ]
  },
  {
   "cell_type": "markdown",
   "metadata": {},
   "source": [
    "#### Who are the directors with most movies?"
   ]
  },
  {
   "cell_type": "code",
   "execution_count": null,
   "metadata": {
    "collapsed": false
   },
   "outputs": [],
   "source": [
    "#?pd.Series.value_counts"
   ]
  },
  {
   "cell_type": "code",
   "execution_count": null,
   "metadata": {
    "collapsed": false
   },
   "outputs": [],
   "source": [
    "movies.director.value_counts()[:5]"
   ]
  },
  {
   "cell_type": "markdown",
   "metadata": {},
   "source": [
    "#### Let's only take movies of the top directors"
   ]
  },
  {
   "cell_type": "code",
   "execution_count": null,
   "metadata": {
    "collapsed": false
   },
   "outputs": [],
   "source": [
    "N = 4\n",
    "top_directors = movies.director.value_counts().index[:N]\n",
    "top_dir_movies = movies[movies['director'].isin(top_directors)]\n",
    "\n",
    "print '%i movies by top %i directors: %s.' % (len(top_dir_movies),\n",
    "                                              N,\n",
    "                                              ', '.join(top_directors))\n",
    "\n",
    "top_dir_movies.head()"
   ]
  },
  {
   "cell_type": "markdown",
   "metadata": {},
   "source": [
    "We need to convert each director into a column, where the value is either 1 (directed by our guy) or 0 (not directed by our guy). Pandas has a quick way of handling this."
   ]
  },
  {
   "cell_type": "code",
   "execution_count": null,
   "metadata": {
    "collapsed": true
   },
   "outputs": [],
   "source": [
    "# ?pd.get_dummies"
   ]
  },
  {
   "cell_type": "code",
   "execution_count": null,
   "metadata": {
    "collapsed": false,
    "scrolled": true
   },
   "outputs": [],
   "source": [
    "pd.get_dummies(top_dir_movies['director']).head()"
   ]
  },
  {
   "cell_type": "markdown",
   "metadata": {},
   "source": [
    "#### Let's put the dummy variables for director into our data frame"
   ]
  },
  {
   "cell_type": "code",
   "execution_count": null,
   "metadata": {
    "collapsed": true
   },
   "outputs": [],
   "source": [
    "# ?pd.merge"
   ]
  },
  {
   "cell_type": "code",
   "execution_count": null,
   "metadata": {
    "collapsed": false
   },
   "outputs": [],
   "source": [
    "dummies = pd.get_dummies(top_dir_movies['director'])\n",
    "\n",
    "# MEF - note\n",
    "# if we don't want to rely on magical-order-sameness, we can join on key column or index\n",
    "# top_dir_movies = pd.merge(top_dir_movies, dummies, \n",
    "#                           left_index=True, \n",
    "#                           right_index=True)\n",
    "\n",
    "top_dir_movies = pd.concat([top_dir_movies,dummies],axis=1)\n",
    "print len(top_dir_movies)\n",
    "top_dir_movies.head()"
   ]
  },
  {
   "cell_type": "markdown",
   "metadata": {},
   "source": [
    "#### Build the model, use dummies among the features in the model"
   ]
  },
  {
   "cell_type": "code",
   "execution_count": null,
   "metadata": {
    "collapsed": false
   },
   "outputs": [],
   "source": [
    "features = ['production_budget',\n",
    "            'Steven Spielberg',\n",
    "            'Woody Allen',\n",
    "            'Ridley Scott',\n",
    "            'Joel Schumacher']\n",
    "\n",
    "# only pick columns you'll use in the model and dropna so we get\n",
    "# rid of movies without budget info, etc.\n",
    "related_columns = features + ['domestic_gross']\n",
    "print related_columns"
   ]
  },
  {
   "cell_type": "code",
   "execution_count": null,
   "metadata": {
    "collapsed": false
   },
   "outputs": [],
   "source": [
    "clean_top_dir_movies = top_dir_movies[related_columns].dropna()\n",
    "print '%i movies with all necessary info.' % len(clean_top_dir_movies)"
   ]
  },
  {
   "cell_type": "code",
   "execution_count": null,
   "metadata": {
    "collapsed": false
   },
   "outputs": [],
   "source": [
    "# build the model\n",
    "import statsmodels.api as sm\n",
    "Y = clean_top_dir_movies['domestic_gross']\n",
    "X = sm.add_constant(clean_top_dir_movies[features])\n",
    "director_model = sm.OLS(Y, X).fit()\n",
    "director_model.summary()"
   ]
  },
  {
   "cell_type": "code",
   "execution_count": null,
   "metadata": {
    "collapsed": false
   },
   "outputs": [],
   "source": [
    "import numpy as np\n",
    "mse = director_model.mse_resid\n",
    "rmse = np.sqrt(mse)\n",
    "print '2 x Root Mean Squared Error = %g' % (2 * rmse)"
   ]
  },
  {
   "cell_type": "markdown",
   "metadata": {},
   "source": [
    "Our best model with these features ends up being:\n",
    "\n",
    "    Gross of movie =  $55M cash guaranteed\n",
    "                      + 0.3 * budget\n",
    "                      + $101M * (did Steven Spielberg direct it?)\n",
    "                      - $42M  * (did Woody Allen direct it?)\n",
    "                      + $5M   * (did Ridley Scott direct it?)\n",
    "                      - $17M  * (did Joel Schumacher direct it?)\n",
    "                      + random noise (+- $162M with 95% confidence) \n",
    "                 \n",
    "                 \n",
    "But also, only Spielberg's effect passes significance, so the effect we measured for each of the others might not be true and only an artifact of noise. But it looks like Spielberg definitely brings extra value. \n",
    "\n",
    "You could say that we cannot really improve our guess in a meaningful way by knowing if Ridley Scott or Woody Allen or etc. directed it. But by knowing that Spielberg directed a movie, we can increase our prediction of the gross by $101 Million, and this will reduce the errors of our prediction. Spielberg does carry valuable information."
   ]
  },
  {
   "cell_type": "markdown",
   "metadata": {},
   "source": [
    "## Separating training and test sets"
   ]
  },
  {
   "cell_type": "markdown",
   "metadata": {},
   "source": [
    "##### Define your X and Y"
   ]
  },
  {
   "cell_type": "code",
   "execution_count": null,
   "metadata": {
    "collapsed": false
   },
   "outputs": [],
   "source": [
    "model_columns = ['domestic_gross',\n",
    "                 'opening_weekend_take',\n",
    "                 'Steven Spielberg',\n",
    "                 'Woody Allen']\n",
    "df = top_dir_movies[model_columns].dropna()"
   ]
  },
  {
   "cell_type": "code",
   "execution_count": null,
   "metadata": {
    "collapsed": false
   },
   "outputs": [],
   "source": [
    "X = sm.add_constant(df[['opening_weekend_take',\n",
    "                        'Steven Spielberg',\n",
    "                        'Woody Allen']])\n",
    "Y = df['domestic_gross']"
   ]
  },
  {
   "cell_type": "code",
   "execution_count": null,
   "metadata": {
    "collapsed": false
   },
   "outputs": [],
   "source": [
    "X[:5]"
   ]
  },
  {
   "cell_type": "markdown",
   "metadata": {},
   "source": [
    "##### Scikit.learn has a function to do this split"
   ]
  },
  {
   "cell_type": "code",
   "execution_count": null,
   "metadata": {
    "collapsed": false
   },
   "outputs": [],
   "source": [
    "from sklearn.cross_validation import train_test_split\n",
    "\n",
    "# splits x -> x_train, x_test\n",
    "#        y -> y_train, y_test\n",
    "X_train, X_test, Y_train, Y_test = train_test_split(X, Y,\n",
    "                                                    test_size=0.33)\n",
    "\n",
    "print len(X_train), len(X_test)"
   ]
  },
  {
   "cell_type": "markdown",
   "metadata": {},
   "source": [
    "##### Fit model to the training set"
   ]
  },
  {
   "cell_type": "code",
   "execution_count": null,
   "metadata": {
    "collapsed": false
   },
   "outputs": [],
   "source": [
    "model = sm.OLS(Y_train, X_train).fit()\n",
    "model.summary()"
   ]
  },
  {
   "cell_type": "markdown",
   "metadata": {},
   "source": [
    "##### Evaluate performance on the test set"
   ]
  },
  {
   "cell_type": "code",
   "execution_count": null,
   "metadata": {
    "collapsed": false
   },
   "outputs": [],
   "source": [
    "from sklearn.metrics import mean_squared_error\n",
    "\n",
    "# Root mean squared error is standard deviation of\n",
    "# the differences between predicted and actual values\n",
    "def RMSE(model, X_, Y_):\n",
    "    Y_pred = model.predict(X_)\n",
    "    Y_true = Y_\n",
    "    MSE = mean_squared_error(Y_pred, Y_true)\n",
    "    return np.sqrt(MSE)\n",
    "\n",
    "train_RMSE = RMSE(model, X_train, Y_train)\n",
    "test_RMSE  = RMSE(model, X_test, Y_test)\n",
    "\n",
    "print 'Training RMSE is $%.1f Million' % (train_RMSE / 1e6)\n",
    "print 'Test RMSE     is $%.1f Million' % (test_RMSE / 1e6)"
   ]
  },
  {
   "cell_type": "markdown",
   "metadata": {},
   "source": [
    "### Cross Validation"
   ]
  },
  {
   "cell_type": "markdown",
   "metadata": {},
   "source": [
    "##### For the same X and Y, instead of creating a single training/test split, let's do a 5-fold cross validation"
   ]
  },
  {
   "cell_type": "code",
   "execution_count": null,
   "metadata": {
    "collapsed": false
   },
   "outputs": [],
   "source": [
    "from sklearn.linear_model import LinearRegression\n",
    "from sklearn.cross_validation import cross_val_score\n",
    "\n",
    "model = LinearRegression()\n",
    "RMSE_folds = cross_val_score(model,X,Y,\n",
    "                             cv=5,\n",
    "                             scoring=RMSE)\n",
    "for i,error in enumerate(RMSE_folds):\n",
    "    print 'Cross val fold %i: %.1f Million' % (i, error/1e6)"
   ]
  }
 ],
 "metadata": {
  "kernelspec": {
   "display_name": "Python 2",
   "language": "python",
   "name": "python2"
  },
  "language_info": {
   "codemirror_mode": {
    "name": "ipython",
    "version": 2
   },
   "file_extension": ".py",
   "mimetype": "text/x-python",
   "name": "python",
   "nbconvert_exporter": "python",
   "pygments_lexer": "ipython2",
   "version": "2.7.11"
  }
 },
 "nbformat": 4,
 "nbformat_minor": 0
}
